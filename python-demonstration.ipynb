{
 "cells": [
  {
   "cell_type": "markdown",
   "metadata": {},
   "source": [
    "### Disclaimer\n",
    "\n",
    "Distribution authorized to U.S. Government agencies and their contractors. Other requests for this document shall be referred to the MIT Lincoln Laboratory Technology Office.\n",
    "\n",
    "This material is based upon work supported by the Under Secretary of Defense for Research and Engineering under Air Force Contract No. FA8702-15-D-0001. Any opinions, findings, conclusions or recommendations expressed in this material are those of the author(s) and do not necessarily reflect the views of the Under Secretary of Defense for Research and Engineering.\n",
    "\n",
    "© 2019 Massachusetts Institute of Technology.\n",
    "\n",
    "The software/firmware is provided to you on an As-Is basis\n",
    "\n",
    "Delivered to the U.S. Government with Unlimited Rights, as defined in DFARS Part 252.227-7013 or 7014 (Feb 2014). Notwithstanding any copyright notice, U.S. Government rights in this work are defined by DFARS 252.227-7013 or DFARS 252.227-7014 as detailed above. Use of this work other than as specifically authorized by the U.S. Government may violate any copyrights that exist in this work.\n"
   ]
  },
  {
   "cell_type": "code",
   "execution_count": 1,
   "metadata": {},
   "outputs": [],
   "source": [
    "from tesse.env import Env\n",
    "from tesse.msgs import *\n",
    "\n",
    "import time\n",
    "import matplotlib.pyplot as plt\n",
    "import defusedxml.ElementTree as ET"
   ]
  },
  {
   "cell_type": "code",
   "execution_count": 2,
   "metadata": {},
   "outputs": [],
   "source": [
    "env = Env()"
   ]
  },
  {
   "cell_type": "markdown",
   "metadata": {},
   "source": [
    "### Demo Transform Message"
   ]
  },
  {
   "cell_type": "code",
   "execution_count": null,
   "metadata": {},
   "outputs": [],
   "source": [
    "env.send(Transform(-1, 0, 0)) # left\n",
    "time.sleep(1)\n",
    "env.send(Transform(1, 0, 0)) # right\n",
    "time.sleep(1)\n",
    "env.send(Transform(0, -1, 0)) # back\n",
    "time.sleep(1)\n",
    "env.send(Transform(0, 1, 0)) # forward\n",
    "time.sleep(1)\n",
    "env.send(Transform(0, 0, 45)) # turn right\n",
    "time.sleep(1)\n",
    "env.send(Transform(0, 0, -45)) # turn left"
   ]
  },
  {
   "cell_type": "markdown",
   "metadata": {},
   "source": [
    "### Demo Force and Torque Message"
   ]
  },
  {
   "cell_type": "code",
   "execution_count": null,
   "metadata": {},
   "outputs": [],
   "source": [
    "env.send(AddRelativeForceAndTorque(100, 0)) # Forward force\n",
    "time.sleep(1)\n",
    "env.send(AddRelativeForceAndTorque(-100, 0)) # Backward force\n",
    "time.sleep(1)\n",
    "env.send(AddRelativeForceAndTorque(0, 10)) # Torque right\n",
    "time.sleep(1)\n",
    "env.send(AddRelativeForceAndTorque(0, -10)) # Torque left"
   ]
  },
  {
   "cell_type": "markdown",
   "metadata": {},
   "source": [
    "### Demo Reposition Message"
   ]
  },
  {
   "cell_type": "code",
   "execution_count": null,
   "metadata": {},
   "outputs": [],
   "source": [
    "env.send(Reposition(-18, 14, 24, 0, 0, 0, 0))\n",
    "time.sleep(1)\n",
    "env.send(Reposition(-17, 2, 25, 0, 0, 0, 0))"
   ]
  },
  {
   "cell_type": "markdown",
   "metadata": {},
   "source": [
    "### Demo getting images"
   ]
  },
  {
   "cell_type": "code",
   "execution_count": null,
   "metadata": {},
   "outputs": [],
   "source": [
    "def plot(response, title=None):\n",
    "    if len(response.images) == 0:\n",
    "        return\n",
    "    figsize = (len(response.images)*5, 5)\n",
    "    fig, axs = plt.subplots(1, len(response.images), figsize=figsize)\n",
    "    if len(response.images) > 1:\n",
    "        for ax, img in zip(axs, response.images):\n",
    "            ax.axis('off');\n",
    "            ax.imshow(img, cmap='gray');\n",
    "    else:\n",
    "        axs.axis('off');\n",
    "        axs.imshow(response.images[0], cmap='gray');\n",
    "        axs.set_title(title)"
   ]
  },
  {
   "cell_type": "code",
   "execution_count": null,
   "metadata": {},
   "outputs": [],
   "source": [
    "response = env.request(DataRequest())\n",
    "if response is not None:\n",
    "    print(response.metadata)\n",
    "    plot(response)"
   ]
  },
  {
   "cell_type": "code",
   "execution_count": null,
   "metadata": {},
   "outputs": [],
   "source": [
    "cameras=[\n",
    "    (Camera.RGB_LEFT, Compression.ON, Channels.THREE),\n",
    "    (Camera.SEGMENTATION, Compression.OFF, Channels.THREE),\n",
    "]\n",
    "response = env.request(DataRequest(metadata=False, cameras=cameras))\n",
    "if response is not None:\n",
    "    plot(response)"
   ]
  },
  {
   "cell_type": "markdown",
   "metadata": {},
   "source": [
    "### Metadata request"
   ]
  },
  {
   "cell_type": "code",
   "execution_count": null,
   "metadata": {},
   "outputs": [],
   "source": [
    "response = env.request(MetadataRequest())\n",
    "if response is not None:\n",
    "    print(response.metadata)"
   ]
  },
  {
   "cell_type": "markdown",
   "metadata": {},
   "source": [
    "### Camera request"
   ]
  },
  {
   "cell_type": "code",
   "execution_count": null,
   "metadata": {},
   "outputs": [],
   "source": [
    "response = env.request(CameraInformationRequest())\n",
    "if response is not None:\n",
    "    print(response.metadata)"
   ]
  },
  {
   "cell_type": "markdown",
   "metadata": {},
   "source": [
    "### Demonstrate some camera manipulation"
   ]
  },
  {
   "cell_type": "code",
   "execution_count": null,
   "metadata": {},
   "outputs": [],
   "source": [
    "# Reset 3rd person view to default\n",
    "_ = env.request(SetCameraParametersRequest(768, 1024, 90, Camera.THIRD_PERSON))\n",
    "_ = env.request(SetCameraPositionRequest(0, 1.319, -2.258, Camera.THIRD_PERSON))\n",
    "response = env.request(DataRequest(cameras=[(Camera.THIRD_PERSON, Compression.OFF, Channels.THREE)]))\n",
    "if response is not None:\n",
    "    plot(response, 'default')\n",
    "\n",
    "# Change the parameters and get the camera\n",
    "_ = env.request(SetCameraParametersRequest(768, 1024, 55, Camera.THIRD_PERSON))\n",
    "response = env.request(DataRequest(cameras=[(Camera.THIRD_PERSON, Compression.OFF, Channels.THREE)]))\n",
    "if response is not None:\n",
    "    plot(response, 'change fov')\n",
    "\n",
    "\n",
    "# Change the position and get the camera\n",
    "_ = env.request(SetCameraPositionRequest(0, 3, -5.5, Camera.THIRD_PERSON))\n",
    "response = env.request(DataRequest(cameras=[(Camera.THIRD_PERSON, Compression.OFF, Channels.THREE)]))\n",
    "if response is not None:\n",
    "    plot(response, 'change position')"
   ]
  },
  {
   "cell_type": "markdown",
   "metadata": {},
   "source": [
    "### Demo respawning"
   ]
  },
  {
   "cell_type": "code",
   "execution_count": null,
   "metadata": {},
   "outputs": [],
   "source": [
    "for i in range(3):\n",
    "    env.send(Respawn())\n",
    "    response = env.request(DataRequest(cameras=[(Camera.THIRD_PERSON, Compression.OFF, Channels.THREE)]))\n",
    "    if response is not None:\n",
    "        plot(response)\n",
    "    time.sleep(1)"
   ]
  },
  {
   "cell_type": "markdown",
   "metadata": {},
   "source": [
    "### Demo changing scenes\n",
    "\n",
    "*NOTE: loading scenes for the first time may take a long time*"
   ]
  },
  {
   "cell_type": "code",
   "execution_count": null,
   "metadata": {},
   "outputs": [],
   "source": [
    "scene_index = 2\n",
    "\n",
    "response = env.request(SceneRequest(scene_index))\n",
    "if response is not None:\n",
    "    print(response.metadata)"
   ]
  },
  {
   "cell_type": "markdown",
   "metadata": {},
   "source": [
    "### Demo step mode\n",
    "\n",
    "This puts the game into step mode. The rate defines the update rate (Hz) for the game.\n",
    "\n",
    "Then, we step forward several times showing how Unit time progresses."
   ]
  },
  {
   "cell_type": "code",
   "execution_count": 10,
   "metadata": {},
   "outputs": [],
   "source": [
    "rate = 1\n",
    "env.send(SetFrameRate(rate))"
   ]
  },
  {
   "cell_type": "code",
   "execution_count": 4,
   "metadata": {},
   "outputs": [],
   "source": [
    "def unity_time(env):\n",
    "    response = env.request(MetadataRequest())\n",
    "    root = ET.fromstring(response.metadata)\n",
    "    return float(root.find('time').text)"
   ]
  },
  {
   "cell_type": "code",
   "execution_count": 8,
   "metadata": {},
   "outputs": [
    {
     "name": "stdout",
     "output_type": "stream",
     "text": [
      "Elapsed time is  1.0  seconds.\n",
      "Elapsed time is  2.0  seconds.\n",
      "Elapsed time is  3.0  seconds.\n",
      "Elapsed time is  4.0  seconds.\n",
      "Elapsed time is  5.0  seconds.\n",
      "Elapsed time is  6.0  seconds.\n",
      "Elapsed time is  7.0  seconds.\n",
      "Elapsed time is  8.0  seconds.\n",
      "Elapsed time is  9.0  seconds.\n",
      "Elapsed time is  10.0  seconds.\n"
     ]
    }
   ],
   "source": [
    "unity_start = unity_time(env)\n",
    "\n",
    "for _ in range(10):\n",
    "    env.send(StepWithForce())\n",
    "    print(\"Elapsed time is \", unity_time(env) - unity_start, \" seconds.\")"
   ]
  },
  {
   "cell_type": "code",
   "execution_count": 9,
   "metadata": {},
   "outputs": [],
   "source": [
    "# Exit step mode by setting rate to 0\n",
    "rate = 0\n",
    "env.send(SetFrameRate(rate))"
   ]
  }
 ],
 "metadata": {
  "kernelspec": {
   "display_name": "Python 3",
   "language": "python",
   "name": "python3"
  },
  "language_info": {
   "codemirror_mode": {
    "name": "ipython",
    "version": 3
   },
   "file_extension": ".py",
   "mimetype": "text/x-python",
   "name": "python",
   "nbconvert_exporter": "python",
   "pygments_lexer": "ipython3",
   "version": "3.6.8"
  }
 },
 "nbformat": 4,
 "nbformat_minor": 2
}
